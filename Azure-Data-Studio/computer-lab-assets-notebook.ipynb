{
    "metadata": {
        "kernelspec": {
            "name": "SQL",
            "display_name": "SQL",
            "language": "sql"
        },
        "language_info": {
            "name": "sql",
            "version": ""
        }
    },
    "nbformat_minor": 2,
    "nbformat": 4,
    "cells": [
        {
            "cell_type": "markdown",
            "source": [
                "## Recreating the Computer Lab Assets Database Tables"
            ],
            "metadata": {
                "azdata_cell_guid": "5098a884-e59c-4e68-850f-39ee7236ef09"
            },
            "attachments": {}
        },
        {
            "cell_type": "markdown",
            "source": [
                "First we want to recreate the tables in the original database."
            ],
            "metadata": {
                "azdata_cell_guid": "a30e84dc-fae8-40ee-8a8a-21059ed4d8fe"
            },
            "attachments": {}
        },
        {
            "cell_type": "code",
            "source": [
                "USE [dockertest]\r\n",
                "GO\r\n",
                "\r\n",
                "/****** Object:  Table [dbo].[computer_lab]    Script Date: 20/04/2022 14:38:17 ******/\r\n",
                "SET ANSI_NULLS ON\r\n",
                "GO\r\n",
                "\r\n",
                "SET QUOTED_IDENTIFIER ON\r\n",
                "GO\r\n",
                "\r\n",
                "CREATE TABLE [dbo].[computer_lab](\r\n",
                "\t[computer_id] [int] NOT NULL,\r\n",
                "\t[lab_id] [int] NOT NULL\r\n",
                ") ON [PRIMARY]\r\n",
                "GO"
            ],
            "metadata": {
                "azdata_cell_guid": "1568d8d4-43c3-4732-8791-5b1431f36be9"
            },
            "outputs": [],
            "execution_count": null
        },
        {
            "cell_type": "code",
            "source": [
                "USE [dockertest]\r\n",
                "GO\r\n",
                "\r\n",
                "/****** Object:  Table [dbo].[computer_user]    Script Date: 20/04/2022 14:40:44 ******/\r\n",
                "SET ANSI_NULLS ON\r\n",
                "GO\r\n",
                "\r\n",
                "SET QUOTED_IDENTIFIER ON\r\n",
                "GO\r\n",
                "\r\n",
                "CREATE TABLE [dbo].[computer_user](\r\n",
                "\t[computer_id] [int] NOT NULL,\r\n",
                "\t[user_id] [int] NOT NULL\r\n",
                ") ON [PRIMARY]\r\n",
                "GO"
            ],
            "metadata": {
                "azdata_cell_guid": "4f228e54-d319-41cc-9525-de614a2edddd"
            },
            "outputs": [],
            "execution_count": null
        },
        {
            "cell_type": "code",
            "source": [
                "USE [dockertest]\r\n",
                "GO\r\n",
                "\r\n",
                "/****** Object:  Table [dbo].[computers]    Script Date: 20/04/2022 14:42:03 ******/\r\n",
                "SET ANSI_NULLS ON\r\n",
                "GO\r\n",
                "\r\n",
                "SET QUOTED_IDENTIFIER ON\r\n",
                "GO\r\n",
                "\r\n",
                "CREATE TABLE [dbo].[computers](\r\n",
                "\t[id] [int] IDENTITY(1,1) NOT NULL,\r\n",
                "\t[host] [nvarchar](255) NULL,\r\n",
                "\t[ip] [nvarchar](255) NULL,\r\n",
                "\t[mac] [nvarchar](255) NULL,\r\n",
                "\t[subnet] [nvarchar](255) NULL,\r\n",
                "\t[broadcast] [nvarchar](255) NULL,\r\n",
                "\t[created_at] [datetime] NULL,\r\n",
                "\t[updated_at] [datetime] NULL\r\n",
                ") ON [PRIMARY]\r\n",
                "GO"
            ],
            "metadata": {
                "azdata_cell_guid": "55705282-33de-4e8a-a89e-3c7a3064ecd0"
            },
            "outputs": [],
            "execution_count": null
        },
        {
            "cell_type": "code",
            "source": [
                "USE [dockertest]\r\n",
                "GO\r\n",
                "\r\n",
                "/****** Object:  Table [dbo].[labs]    Script Date: 20/04/2022 14:43:08 ******/\r\n",
                "SET ANSI_NULLS ON\r\n",
                "GO\r\n",
                "\r\n",
                "SET QUOTED_IDENTIFIER ON\r\n",
                "GO\r\n",
                "\r\n",
                "CREATE TABLE [dbo].[labs](\r\n",
                "\t[id] [int] IDENTITY(1,1) NOT NULL,\r\n",
                "\t[name] [nvarchar](255) NULL,\r\n",
                "\t[created_at] [date] NULL,\r\n",
                "\t[updated_at] [date] NULL\r\n",
                ") ON [PRIMARY]\r\n",
                "GO"
            ],
            "metadata": {
                "azdata_cell_guid": "80dc56ae-3a32-456f-b245-41cad9120c28"
            },
            "outputs": [],
            "execution_count": null
        },
        {
            "cell_type": "code",
            "source": [
                "USE [dockertest]\r\n",
                "GO\r\n",
                "\r\n",
                "/****** Object:  Table [dbo].[labs]    Script Date: 20/04/2022 14:43:08 ******/\r\n",
                "SET ANSI_NULLS ON\r\n",
                "GO\r\n",
                "\r\n",
                "SET QUOTED_IDENTIFIER ON\r\n",
                "GO\r\n",
                "\r\n",
                "CREATE TABLE [dbo].[users](\r\n",
                "\t[id] [int] IDENTITY(1,1) NOT NULL,\r\n",
                "\t[username] [nvarchar](255) NULL,\r\n",
                "\t[created_at] [date] NULL,\r\n",
                "\t[updated_at] [date] NULL\r\n",
                ") ON [PRIMARY]\r\n",
                "GO"
            ],
            "metadata": {
                "azdata_cell_guid": "cbfcc0bf-b482-4eab-828b-d18e9e253764"
            },
            "outputs": [],
            "execution_count": null
        },
        {
            "cell_type": "markdown",
            "source": [
                "## Querying the Tables"
            ],
            "metadata": {
                "azdata_cell_guid": "72326f7f-7bb7-4acc-acf7-332007743dd1"
            },
            "attachments": {}
        },
        {
            "cell_type": "markdown",
            "source": [
                "Select all from ComputerS table."
            ],
            "metadata": {
                "azdata_cell_guid": "74ddb362-e35e-460f-b3a7-077b98f4fad5"
            },
            "attachments": {}
        },
        {
            "cell_type": "code",
            "source": [
                "SELECT TOP (1000) [id]\r\n",
                "      ,[host]\r\n",
                "      ,[ip]\r\n",
                "      ,[mac]\r\n",
                "      ,[subnet]\r\n",
                "      ,[broadcast]\r\n",
                "      ,[created_at]\r\n",
                "      ,[updated_at]\r\n",
                "  FROM [dockertest].[dbo].[computers]"
            ],
            "metadata": {
                "azdata_cell_guid": "53caa9e7-2742-41ea-9310-af9b535ff5a9"
            },
            "outputs": [
                {
                    "output_type": "display_data",
                    "data": {
                        "text/html": "(1 row affected)"
                    },
                    "metadata": {}
                },
                {
                    "output_type": "display_data",
                    "data": {
                        "text/html": "Total execution time: 00:00:00.014"
                    },
                    "metadata": {}
                },
                {
                    "output_type": "execute_result",
                    "metadata": {},
                    "execution_count": 4,
                    "data": {
                        "application/vnd.dataresource+json": {
                            "schema": {
                                "fields": [
                                    {
                                        "name": "id"
                                    },
                                    {
                                        "name": "host"
                                    },
                                    {
                                        "name": "ip"
                                    },
                                    {
                                        "name": "mac"
                                    },
                                    {
                                        "name": "subnet"
                                    },
                                    {
                                        "name": "broadcast"
                                    },
                                    {
                                        "name": "created_at"
                                    },
                                    {
                                        "name": "updated_at"
                                    }
                                ]
                            },
                            "data": [
                                {
                                    "0": "1",
                                    "1": "TEST HOST",
                                    "2": "192.168.0.5",
                                    "3": "45:43:CD:FB",
                                    "4": "255.255.255.000",
                                    "5": "192.168.1.1",
                                    "6": "2022-04-27 00:00:00.000",
                                    "7": "2022-04-27 00:00:00.000"
                                }
                            ]
                        },
                        "text/html": [
                            "<table>",
                            "<tr><th>id</th><th>host</th><th>ip</th><th>mac</th><th>subnet</th><th>broadcast</th><th>created_at</th><th>updated_at</th></tr>",
                            "<tr><td>1</td><td>TEST HOST</td><td>192.168.0.5</td><td>45:43:CD:FB</td><td>255.255.255.000</td><td>192.168.1.1</td><td>2022-04-27 00:00:00.000</td><td>2022-04-27 00:00:00.000</td></tr>",
                            "</table>"
                        ]
                    }
                }
            ],
            "execution_count": 4
        },
        {
            "cell_type": "markdown",
            "source": [
                "Select all from Labs table."
            ],
            "metadata": {
                "azdata_cell_guid": "84796831-6da8-4f47-b6c3-caca0b58fc80",
                "language": ""
            },
            "attachments": {}
        },
        {
            "cell_type": "code",
            "source": [
                "SELECT TOP (1000) [id]\r\n",
                "      ,[name]\r\n",
                "      ,[created_at]\r\n",
                "      ,[updated_at]\r\n",
                "  FROM [dockertest].[dbo].[labs]"
            ],
            "metadata": {
                "azdata_cell_guid": "e443d707-df95-4b2f-9f8b-3ff16df492b0"
            },
            "outputs": [
                {
                    "output_type": "display_data",
                    "data": {
                        "text/html": "(2 rows affected)"
                    },
                    "metadata": {}
                },
                {
                    "output_type": "display_data",
                    "data": {
                        "text/html": "Total execution time: 00:00:00.018"
                    },
                    "metadata": {}
                },
                {
                    "output_type": "execute_result",
                    "metadata": {},
                    "execution_count": 5,
                    "data": {
                        "application/vnd.dataresource+json": {
                            "schema": {
                                "fields": [
                                    {
                                        "name": "id"
                                    },
                                    {
                                        "name": "name"
                                    },
                                    {
                                        "name": "created_at"
                                    },
                                    {
                                        "name": "updated_at"
                                    }
                                ]
                            },
                            "data": [
                                {
                                    "0": "1",
                                    "1": "G515",
                                    "2": "2022-04-27",
                                    "3": "2022-04-27"
                                },
                                {
                                    "0": "2",
                                    "1": "G516",
                                    "2": "2022-04-27",
                                    "3": "2022-04-27"
                                }
                            ]
                        },
                        "text/html": [
                            "<table>",
                            "<tr><th>id</th><th>name</th><th>created_at</th><th>updated_at</th></tr>",
                            "<tr><td>1</td><td>G515</td><td>2022-04-27</td><td>2022-04-27</td></tr>",
                            "<tr><td>2</td><td>G516</td><td>2022-04-27</td><td>2022-04-27</td></tr>",
                            "</table>"
                        ]
                    }
                }
            ],
            "execution_count": 5
        },
        {
            "cell_type": "markdown",
            "source": [
                "Select all from User table."
            ],
            "metadata": {
                "azdata_cell_guid": "f7b6b9f1-8f15-4577-bafa-e094a6cae85b"
            },
            "attachments": {}
        },
        {
            "cell_type": "code",
            "source": [
                "SELECT TOP (1000) [id]\r\n",
                "      ,[username]\r\n",
                "      ,[created_at]\r\n",
                "      ,[updated_at]\r\n",
                "  FROM [dockertest].[dbo].[users]"
            ],
            "metadata": {
                "azdata_cell_guid": "a1f3f61f-f671-4170-9f06-a606735c20a3"
            },
            "outputs": [],
            "execution_count": null
        },
        {
            "cell_type": "markdown",
            "source": [
                "## Configuring SQL Authentication"
            ],
            "metadata": {
                "azdata_cell_guid": "6ed21f45-2849-4ae4-8162-920ea17cedc7"
            },
            "attachments": {}
        },
        {
            "cell_type": "markdown",
            "source": [
                "Run the following to check whether the server accepts Integrated Security only for authentication."
            ],
            "metadata": {
                "azdata_cell_guid": "3e6ede20-86b5-49fe-b682-0f7f7b43e747"
            },
            "attachments": {}
        },
        {
            "cell_type": "code",
            "source": [
                "SELECT SERVERPROPERTY('IsIntegratedSecurityOnly')"
            ],
            "metadata": {
                "azdata_cell_guid": "7ddc0839-b13f-41c0-b51d-f273df1d4cbd"
            },
            "outputs": [],
            "execution_count": null
        },
        {
            "cell_type": "markdown",
            "source": [
                "If the value returned is '1', run the following to change that configuration to accept username/password authentication:"
            ],
            "metadata": {
                "azdata_cell_guid": "066ac4e7-3220-4853-a4ff-f6d295487139"
            },
            "attachments": {}
        },
        {
            "cell_type": "code",
            "source": [
                "EXEC xp_instance_regwrite N'HKEY_LOCAL_MACHINE', N'Software\\Microsoft\\MSSQLServer\\MSSQLServer', N'LoginMode', REG_DWORD, 2"
            ],
            "metadata": {
                "azdata_cell_guid": "e60a4676-37db-40d6-95cb-b9b0393cac59"
            },
            "outputs": [],
            "execution_count": null
        },
        {
            "cell_type": "markdown",
            "source": [
                "Restart the SQL Server Express, using Services.msc. The '_IsIntegratedSecurityOnly_' value should be '0'. The next step is to create a default user account and set permissions for it."
            ],
            "metadata": {
                "azdata_cell_guid": "96555875-24b7-4629-9407-5d09c535facf"
            },
            "attachments": {}
        },
        {
            "cell_type": "code",
            "source": [
                "CREATE LOGIN standarduser WITH PASSWORD=N'standardpass', \r\n",
                "                 DEFAULT_DATABASE=[master], CHECK_EXPIRATION=OFF, CHECK_POLICY=OFF\r\n",
                "\r\n",
                "EXEC sp_addsrvrolemember 'standarduser', 'sysadmin'\r\n",
                "CREATE USER myusername FOR LOGIN standarduser WITH DEFAULT_SCHEMA=[dbo]"
            ],
            "metadata": {
                "azdata_cell_guid": "08db7d07-e080-430d-9051-db0328ac45c8"
            },
            "outputs": [],
            "execution_count": null
        }
    ]
}