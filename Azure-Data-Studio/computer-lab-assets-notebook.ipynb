{
    "cells": [
        {
            "attachments": {},
            "cell_type": "markdown",
            "metadata": {
                "azdata_cell_guid": "5098a884-e59c-4e68-850f-39ee7236ef09"
            },
            "source": [
                "## Recreating the Computer Lab Assets Database Tables"
            ]
        },
        {
            "attachments": {},
            "cell_type": "markdown",
            "metadata": {
                "azdata_cell_guid": "a30e84dc-fae8-40ee-8a8a-21059ed4d8fe"
            },
            "source": [
                "First we want to recreate the tables in the original database."
            ]
        },
        {
            "cell_type": "code",
            "execution_count": null,
            "metadata": {
                "azdata_cell_guid": "1568d8d4-43c3-4732-8791-5b1431f36be9"
            },
            "outputs": [],
            "source": [
                "USE [dockertest]\n",
                "GO\n",
                "\n",
                "/****** Object:  Table [dbo].[computer_lab]    Script Date: 20/04/2022 14:38:17 ******/\n",
                "SET ANSI_NULLS ON\n",
                "GO\n",
                "\n",
                "SET QUOTED_IDENTIFIER ON\n",
                "GO\n",
                "\n",
                "CREATE TABLE [dbo].[computer_lab](\n",
                "\t[computer_id] [int] NOT NULL,\n",
                "\t[lab_id] [int] NOT NULL\n",
                ") ON [PRIMARY]\n",
                "GO"
            ]
        },
        {
            "cell_type": "code",
            "execution_count": null,
            "metadata": {
                "azdata_cell_guid": "4f228e54-d319-41cc-9525-de614a2edddd"
            },
            "outputs": [],
            "source": [
                "USE [dockertest]\n",
                "GO\n",
                "\n",
                "/****** Object:  Table [dbo].[computer_user]    Script Date: 20/04/2022 14:40:44 ******/\n",
                "SET ANSI_NULLS ON\n",
                "GO\n",
                "\n",
                "SET QUOTED_IDENTIFIER ON\n",
                "GO\n",
                "\n",
                "CREATE TABLE [dbo].[computer_user](\n",
                "\t[computer_id] [int] NOT NULL,\n",
                "\t[user_id] [int] NOT NULL\n",
                ") ON [PRIMARY]\n",
                "GO"
            ]
        },
        {
            "cell_type": "code",
            "execution_count": null,
            "metadata": {
                "azdata_cell_guid": "55705282-33de-4e8a-a89e-3c7a3064ecd0"
            },
            "outputs": [],
            "source": [
                "USE [dockertest]\n",
                "GO\n",
                "\n",
                "/****** Object:  Table [dbo].[computers]    Script Date: 20/04/2022 14:42:03 ******/\n",
                "SET ANSI_NULLS ON\n",
                "GO\n",
                "\n",
                "SET QUOTED_IDENTIFIER ON\n",
                "GO\n",
                "\n",
                "CREATE TABLE [dbo].[computers](\n",
                "\t[id] [int] IDENTITY(1,1) NOT NULL,\n",
                "\t[host] [nvarchar](255) NULL,\n",
                "\t[ip] [nvarchar](255) NULL,\n",
                "\t[mac] [nvarchar](255) NULL,\n",
                "\t[subnet] [nvarchar](255) NULL,\n",
                "\t[broadcast] [nvarchar](255) NULL,\n",
                "\t[created_at] [datetime] NULL,\n",
                "\t[updated_at] [datetime] NULL\n",
                ") ON [PRIMARY]\n",
                "GO"
            ]
        },
        {
            "cell_type": "code",
            "execution_count": null,
            "metadata": {
                "azdata_cell_guid": "80dc56ae-3a32-456f-b245-41cad9120c28"
            },
            "outputs": [],
            "source": [
                "USE [dockertest]\n",
                "GO\n",
                "\n",
                "/****** Object:  Table [dbo].[labs]    Script Date: 20/04/2022 14:43:08 ******/\n",
                "SET ANSI_NULLS ON\n",
                "GO\n",
                "\n",
                "SET QUOTED_IDENTIFIER ON\n",
                "GO\n",
                "\n",
                "CREATE TABLE [dbo].[labs](\n",
                "\t[id] [int] IDENTITY(1,1) NOT NULL,\n",
                "\t[name] [nvarchar](255) NULL,\n",
                "\t[created_at] [date] NULL,\n",
                "\t[updated_at] [date] NULL\n",
                ") ON [PRIMARY]\n",
                "GO"
            ]
        },
        {
            "cell_type": "code",
            "execution_count": null,
            "metadata": {
                "azdata_cell_guid": "cbfcc0bf-b482-4eab-828b-d18e9e253764"
            },
            "outputs": [],
            "source": [
                "USE [dockertest]\n",
                "GO\n",
                "\n",
                "/****** Object:  Table [dbo].[labs]    Script Date: 20/04/2022 14:43:08 ******/\n",
                "SET ANSI_NULLS ON\n",
                "GO\n",
                "\n",
                "SET QUOTED_IDENTIFIER ON\n",
                "GO\n",
                "\n",
                "CREATE TABLE [dbo].[users](\n",
                "\t[id] [int] IDENTITY(1,1) NOT NULL,\n",
                "\t[username] [nvarchar](255) NULL,\n",
                "\t[created_at] [date] NULL,\n",
                "\t[updated_at] [date] NULL\n",
                ") ON [PRIMARY]\n",
                "GO"
            ]
        },
        {
            "attachments": {},
            "cell_type": "markdown",
            "metadata": {
                "azdata_cell_guid": "72326f7f-7bb7-4acc-acf7-332007743dd1"
            },
            "source": [
                "## Querying the Tables"
            ]
        },
        {
            "attachments": {},
            "cell_type": "markdown",
            "metadata": {
                "azdata_cell_guid": "74ddb362-e35e-460f-b3a7-077b98f4fad5"
            },
            "source": [
                "Select all from ComputerS table."
            ]
        },
        {
            "cell_type": "code",
            "execution_count": 4,
            "metadata": {
                "azdata_cell_guid": "53caa9e7-2742-41ea-9310-af9b535ff5a9"
            },
            "outputs": [
                {
                    "data": {
                        "text/html": [
                            "(1 row affected)"
                        ]
                    },
                    "metadata": {},
                    "output_type": "display_data"
                },
                {
                    "data": {
                        "text/html": [
                            "Total execution time: 00:00:00.014"
                        ]
                    },
                    "metadata": {},
                    "output_type": "display_data"
                },
                {
                    "data": {
                        "application/vnd.dataresource+json": {
                            "data": [
                                {
                                    "0": "1",
                                    "1": "TEST HOST",
                                    "2": "192.168.0.5",
                                    "3": "45:43:CD:FB",
                                    "4": "255.255.255.000",
                                    "5": "192.168.1.1",
                                    "6": "2022-04-27 00:00:00.000",
                                    "7": "2022-04-27 00:00:00.000"
                                }
                            ],
                            "schema": {
                                "fields": [
                                    {
                                        "name": "id"
                                    },
                                    {
                                        "name": "host"
                                    },
                                    {
                                        "name": "ip"
                                    },
                                    {
                                        "name": "mac"
                                    },
                                    {
                                        "name": "subnet"
                                    },
                                    {
                                        "name": "broadcast"
                                    },
                                    {
                                        "name": "created_at"
                                    },
                                    {
                                        "name": "updated_at"
                                    }
                                ]
                            }
                        },
                        "text/html": [
                            "<table>\n",
                            "<tr><th>id</th><th>host</th><th>ip</th><th>mac</th><th>subnet</th><th>broadcast</th><th>created_at</th><th>updated_at</th></tr>\n",
                            "<tr><td>1</td><td>TEST HOST</td><td>192.168.0.5</td><td>45:43:CD:FB</td><td>255.255.255.000</td><td>192.168.1.1</td><td>2022-04-27 00:00:00.000</td><td>2022-04-27 00:00:00.000</td></tr>\n",
                            "</table>"
                        ]
                    },
                    "execution_count": 4,
                    "metadata": {},
                    "output_type": "execute_result"
                }
            ],
            "source": [
                "SELECT TOP (1000) [id]\n",
                "      ,[host]\n",
                "      ,[ip]\n",
                "      ,[mac]\n",
                "      ,[subnet]\n",
                "      ,[broadcast]\n",
                "      ,[created_at]\n",
                "      ,[updated_at]\n",
                "  FROM [dockertest].[dbo].[computers]"
            ]
        },
        {
            "attachments": {},
            "cell_type": "markdown",
            "metadata": {
                "azdata_cell_guid": "84796831-6da8-4f47-b6c3-caca0b58fc80",
                "language": ""
            },
            "source": [
                "Select all from Labs table."
            ]
        },
        {
            "cell_type": "code",
            "execution_count": 5,
            "metadata": {
                "azdata_cell_guid": "e443d707-df95-4b2f-9f8b-3ff16df492b0"
            },
            "outputs": [
                {
                    "data": {
                        "text/html": [
                            "(2 rows affected)"
                        ]
                    },
                    "metadata": {},
                    "output_type": "display_data"
                },
                {
                    "data": {
                        "text/html": [
                            "Total execution time: 00:00:00.018"
                        ]
                    },
                    "metadata": {},
                    "output_type": "display_data"
                },
                {
                    "data": {
                        "application/vnd.dataresource+json": {
                            "data": [
                                {
                                    "0": "1",
                                    "1": "G515",
                                    "2": "2022-04-27",
                                    "3": "2022-04-27"
                                },
                                {
                                    "0": "2",
                                    "1": "G516",
                                    "2": "2022-04-27",
                                    "3": "2022-04-27"
                                }
                            ],
                            "schema": {
                                "fields": [
                                    {
                                        "name": "id"
                                    },
                                    {
                                        "name": "name"
                                    },
                                    {
                                        "name": "created_at"
                                    },
                                    {
                                        "name": "updated_at"
                                    }
                                ]
                            }
                        },
                        "text/html": [
                            "<table>\n",
                            "<tr><th>id</th><th>name</th><th>created_at</th><th>updated_at</th></tr>\n",
                            "<tr><td>1</td><td>G515</td><td>2022-04-27</td><td>2022-04-27</td></tr>\n",
                            "<tr><td>2</td><td>G516</td><td>2022-04-27</td><td>2022-04-27</td></tr>\n",
                            "</table>"
                        ]
                    },
                    "execution_count": 5,
                    "metadata": {},
                    "output_type": "execute_result"
                }
            ],
            "source": [
                "SELECT TOP (1000) [id]\n",
                "      ,[name]\n",
                "      ,[created_at]\n",
                "      ,[updated_at]\n",
                "  FROM [dockertest].[dbo].[labs]"
            ]
        },
        {
            "attachments": {},
            "cell_type": "markdown",
            "metadata": {
                "azdata_cell_guid": "f7b6b9f1-8f15-4577-bafa-e094a6cae85b"
            },
            "source": [
                "Select all from User table."
            ]
        },
        {
            "cell_type": "code",
            "execution_count": null,
            "metadata": {
                "azdata_cell_guid": "a1f3f61f-f671-4170-9f06-a606735c20a3"
            },
            "outputs": [],
            "source": [
                "SELECT TOP (1000) [id]\n",
                "      ,[username]\n",
                "      ,[created_at]\n",
                "      ,[updated_at]\n",
                "  FROM [dockertest].[dbo].[users]"
            ]
        },
        {
            "attachments": {},
            "cell_type": "markdown",
            "metadata": {
                "azdata_cell_guid": "6ed21f45-2849-4ae4-8162-920ea17cedc7"
            },
            "source": [
                "## Configuring SQL Authentication"
            ]
        },
        {
            "attachments": {},
            "cell_type": "markdown",
            "metadata": {
                "azdata_cell_guid": "3e6ede20-86b5-49fe-b682-0f7f7b43e747"
            },
            "source": [
                "Run the following to check whether the server accepts Integrated Security only for authentication."
            ]
        },
        {
            "cell_type": "code",
            "execution_count": null,
            "metadata": {
                "azdata_cell_guid": "7ddc0839-b13f-41c0-b51d-f273df1d4cbd"
            },
            "outputs": [],
            "source": [
                "SELECT SERVERPROPERTY('IsIntegratedSecurityOnly')"
            ]
        },
        {
            "attachments": {},
            "cell_type": "markdown",
            "metadata": {
                "azdata_cell_guid": "066ac4e7-3220-4853-a4ff-f6d295487139"
            },
            "source": [
                "If the value returned is '1', run the following to change that configuration to accept username/password authentication:"
            ]
        },
        {
            "cell_type": "code",
            "execution_count": null,
            "metadata": {
                "azdata_cell_guid": "e60a4676-37db-40d6-95cb-b9b0393cac59"
            },
            "outputs": [],
            "source": [
                "EXEC xp_instance_regwrite N'HKEY_LOCAL_MACHINE', N'Software\\Microsoft\\MSSQLServer\\MSSQLServer', N'LoginMode', REG_DWORD, 2"
            ]
        },
        {
            "attachments": {},
            "cell_type": "markdown",
            "metadata": {
                "azdata_cell_guid": "96555875-24b7-4629-9407-5d09c535facf"
            },
            "source": [
                "Restart the SQL Server Express, using Services.msc. The '_IsIntegratedSecurityOnly_' value should be '0'. The next step is to create a default user account and set permissions for it."
            ]
        },
        {
            "cell_type": "code",
            "execution_count": null,
            "metadata": {
                "azdata_cell_guid": "08db7d07-e080-430d-9051-db0328ac45c8"
            },
            "outputs": [],
            "source": [
                "CREATE LOGIN standarduser WITH PASSWORD=N'standardpass', \n",
                "                 DEFAULT_DATABASE=[master], CHECK_EXPIRATION=OFF, CHECK_POLICY=OFF\n",
                "\n",
                "EXEC sp_addsrvrolemember 'standarduser', 'sysadmin'\n",
                "CREATE USER myusername FOR LOGIN standarduser WITH DEFAULT_SCHEMA=[dbo]"
            ]
        }
    ],
    "metadata": {
        "kernelspec": {
            "display_name": "SQL",
            "language": "sql",
            "name": "SQL"
        },
        "language_info": {
            "name": "sql",
            "version": ""
        }
    },
    "nbformat": 4,
    "nbformat_minor": 2
}
